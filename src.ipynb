{
 "cells": [
  {
   "cell_type": "markdown",
   "metadata": {},
   "source": [
    "<div align=\"center\"> <h3><font color='cyan'>CSE 574 Section D: Introduction to Machine Learning, Fall 2023 </font> \n",
    "<h1> Assignment 0 - Python Introduction\n",
    "\n",
    "<h3>Checkpoint: September 7, Thu, 11:59pm\n",
    "<h2><font color='red'>Final Due Date: </font> September 14, Thu, 11:59pm</div>\n",
    "\n",
    "Welcome to your first CSE 574 assignment! The goal of this assignment is to sharpen your programming skills needed for this class. It is focused on familiarizing yourself with Python and main data science libraries that will be used for other assignments as well.\n",
    "\n",
    "There are a total of six parts. We will focus on basic Python functions, explore numpy, pandas, matplotlib, scikit-learn libraries,  and analyze the real-world dataset.\n",
    "\n",
    "If you are new to Python, check our [Python resources page](https://ubuffalo-my.sharepoint.com/:w:/g/personal/avereshc_buffalo_edu/EZoQjG_dJpNJgOPmzjIVtCQBdMUeNL9llFbOSQyFYidk7w?e=Tds2E3) and our Recitation 0 & 1.\n",
    "\n",
    "\n",
    "### Submission\n",
    "\n",
    "All the details you need for this assignment are located within this notebook. You are expected to follow every block and complete the task within the marks ``` # BEGIN_YOUR_CODE ``` and ```# END_YOUR_CODE```. Do not modify or edit code beyond these lines. You can add helper functions in the new cells, if needed. We recommend completing the task within this .ipynb notebook, if needed you can convert it and submit as .py script. Try to make your code as clean and simple as possible and be sure to write your answers between the begin answer and end answer comments.\n",
    "\n",
    "1. Submit at **Brighspace > Assesments > Assignments**\n",
    "2. The code of your implementations should be written in Python\n",
    "3. All project files should be submitted as jupyter notebooks named UBIT_assignment0_checkpoint.ipynb or UBIT_assignment0_final.ipynb, e.g. avereshc_assignment0_checkpoint.ipynb or avereshc_assignment0_final.ipynb.\n",
    "4. Please submit a .ipynb file only. Submitions with .py, .json, .pdf or any other type won't be considered for evaluation. Your Jupyter notebook should be saved with the results.  \n",
    "5. Include all the references that have been used to complete the assignment.\n",
    "\n",
    "### Checkpoint Submission <font color='red'>[Due Date: Sep 7]</font>\n",
    "Complete Part 1, Part 2 and submit the code in the .ipynb file named UBIT_assignment0_checkpoint.ipynb. Checkpoint will be evaluated after the final submission.\n",
    "\n",
    "### Final Submission <font color='red'>[Due Date: Sep 14]</font>\n",
    "Complete all parts of the assignment and submit the code in the .ipynb file named UBIT_assignment0_final.ipynb. You may add slight modification to your Checkpoint submission if needed.\n",
    "\n",
    "**Assignment Outline**\n",
    "\n",
    "| Part | Description | # of tasks | Points |\n",
    "| --- | --- | --- | --- |\n",
    "| [Part 1](#part1) | Python & Numpy Basics | 21 | 25 |\n",
    "| [Part 2](#part2) | Algorithms | 2 | 10 |\n",
    "| [Part 3](#part3) | Pandas Basics | 9 | 15 |\n",
    "| [Part 4](#part4) | Matplotlib Basics | 8 | 20 |\n",
    "| [Part 5](#part5) | Scikit Learn Basics | 3 | 20 |\n",
    "| [Part 6](#part6) | Optuna Basics | 2 | 10 |\n",
    "| [References](#references) | Include all the references used |\n",
    "\n",
    "    \n",
    "### Academic Integrity\n",
    "\n",
    "This task must be completed individually.\n",
    "The standing policy of the Department is that all students involved in any academic integrity violation (e.g. plagiarism in any way, shape, or form) will receive an F grade for the course. The catalog describes plagiarism as “Copying or receiving material from any source and submitting that material as one’s own, without acknowledging and citing the particular debts to the source, or in any other manner representing the work of another as one’s own.”. Refer to the [Office of Academic Integrity](https://www.buffalo.edu/academic-integrity.html) for more details.\n",
    "\n",
    "\n",
    "### Late Days Policy\n",
    "You can use up to 7 late days throughout the course toward any programming taks, assignments' checkpoint or final submission. You do not have to inform the instructor, as the late submission will be tracked in UBlearns.\n",
    "\n",
    "### FAQ\n",
    ">What does 'raise Exception(\"Not implemented yet\")' mean?\n",
    "\n",
    "Here we define a custom exception to highlight that the task is not implemented yet. Once you implement your code, ensure to remove this part.\n",
    "\n",
    ">Can I add code beyond # BEGIN_YOUR_CODE parts.\n",
    "\n",
    "Yes, you can add helper functions. Add them in the separate cell with the comments, why you need it"
   ]
  },
  {
   "cell_type": "markdown",
   "metadata": {},
   "source": [
    "<a id='part1'></a>\n",
    "## Part 1: Python and Numpy Basics [20 Points]"
   ]
  },
  {
   "cell_type": "markdown",
   "metadata": {},
   "source": [
    "The first part of this assignment gives you practice with python syntax. Follow the cells below for the instructions."
   ]
  },
  {
   "cell_type": "code",
   "execution_count": 4,
   "metadata": {},
   "outputs": [
    {
     "name": "stdout",
     "output_type": "stream",
     "text": [
      "Hello UB! Hello UB! Hello UB! Hello UB! Hello UB! Hello UB! Hello UB! Hello UB! Hello UB! Hello UB! Hello UB! Hello UB! Hello UB! Hello UB! Hello UB! Hello UB! Hello UB! Hello UB! Hello UB! Hello UB! Hello UB! Hello UB! Hello UB! Hello UB! Hello UB! Hello UB! Hello UB! Hello UB! Hello UB! Hello UB! Hello UB! Hello UB! Hello UB! Hello UB! Hello UB! Hello UB! Hello UB! Hello UB! Hello UB! Hello UB! Hello UB! Hello UB! Hello UB! Hello UB! Hello UB! Hello UB! Hello UB! Hello UB! Hello UB! Hello UB! Hello UB! Hello UB! Hello UB! Hello UB! Hello UB! Hello UB! Hello UB! Hello UB! Hello UB! Hello UB! Hello UB! Hello UB! Hello UB! Hello UB! Hello UB! Hello UB! Hello UB! Hello UB! Hello UB! Hello UB! Hello UB! Hello UB! Hello UB! Hello UB! Hello UB! Hello UB! Hello UB! Hello UB! Hello UB! Hello UB! Hello UB! Hello UB! Hello UB! Hello UB! Hello UB! Hello UB! Hello UB! Hello UB! Hello UB! Hello UB! Hello UB! Hello UB! Hello UB! Hello UB! Hello UB! Hello UB! Hello UB! Hello UB! Hello UB! Hello UB! Hello UB! "
     ]
    }
   ],
   "source": [
    "''' 1. Hello UB\n",
    "Write a function that will print a phrase \"Hello UB! \" 101 times\n",
    "\n",
    "Expected Output: \"Hello UB! Hello UB! Hello UB! Hello UB! Hello UB! ........\"\n",
    "'''\n",
    "\n",
    "# BEGIN_YOUR_CODE\n",
    "def phrase(n):\n",
    "    for i in range(n):\n",
    "        print(\"Hello UB!\",end=\" \")\n",
    "phrase(101)\n",
    "\n",
    "# END_YOUR_CODE"
   ]
  },
  {
   "cell_type": "code",
   "execution_count": 5,
   "metadata": {},
   "outputs": [
    {
     "name": "stdout",
     "output_type": "stream",
     "text": [
      "Enter your holiday destination Niagara falls\n",
      "Enter your holiday destination Time Square\n",
      "Enter your holiday destination Statue of liberty\n",
      "Enter your holiday destination Brooklyn Bridge\n",
      "Enter your holiday destination Central Park\n",
      "['Niagara falls', 'Time Square', 'Statue of liberty', 'Brooklyn Bridge', 'Central Park']\n"
     ]
    }
   ],
   "source": [
    "''' 2. Adding elements to a list during the runtime\n",
    "Create an empty list and add five of your favourite holiday destinations to the list during the runtime using functions input() and append()\n",
    "Print out the list.\n",
    "'''\n",
    "\n",
    "# BEGIN_YOUR_CODE\n",
    "list=[]\n",
    "for i in range(1,6):\n",
    "    destination=input(\"Enter your holiday destination \")\n",
    "    list.append(destination)\n",
    "print(list)\n",
    "\n",
    "# END_YOUR_CODE"
   ]
  },
  {
   "cell_type": "code",
   "execution_count": 6,
   "metadata": {},
   "outputs": [
    {
     "name": "stdout",
     "output_type": "stream",
     "text": [
      "[0, 5, 10, 15, 20, 25]\n"
     ]
    }
   ],
   "source": [
    "''' 3. Updating elements\n",
    "Given a string my_list, update the third element(i.e. 'ten') to 10 and sixth element(i.e. 'twenty five') to 25, so the output is as follows: [0, 5, 10, 15, 20, 25]\n",
    "Print out the updated list.\n",
    "\n",
    "Expected Output: [0, 5, 10, 15, 20, 25]\n",
    "'''\n",
    "\n",
    "\n",
    "\n",
    "# BEGIN_YOUR_CODE\n",
    "my_list = [0, 5, 'ten', 15, 20, 'twenty five']\n",
    "my_list[2]=10\n",
    "my_list[5]=25\n",
    "print(my_list)\n",
    "# END_YOUR_CODE"
   ]
  },
  {
   "cell_type": "code",
   "execution_count": 7,
   "metadata": {},
   "outputs": [
    {
     "data": {
      "text/plain": [
       "5"
      ]
     },
     "execution_count": 7,
     "metadata": {},
     "output_type": "execute_result"
    }
   ],
   "source": [
    "''' 4. Counting occurrences \n",
    "Write a function that counts the number of times a given word appears in a sentence. \n",
    "The word should be matched as a whole word, and the search should be case-insensitive.\n",
    "For example: \"The book is on the table\", total occurances of \"the\" is 2.\n",
    "'''\n",
    "\n",
    "sentence = \"The cat and the dog played in the park next to the theater. The cat was happy.\"\n",
    "word_to_count = \"the\"\n",
    "\n",
    "# BEGIN_YOUR_CODE\n",
    "def count_abc(sentence):\n",
    "    upper_case=sentence.upper()\n",
    "    count=0\n",
    "    list1=upper_case.split(\" \")\n",
    "    for x in list1:\n",
    "        if(x==\"THE\"):\n",
    "            count=count+1\n",
    "    return count\n",
    "\n",
    "count_abc(sentence)\n",
    "\n",
    "# END_YOUR_CODE"
   ]
  },
  {
   "cell_type": "code",
   "execution_count": 8,
   "metadata": {},
   "outputs": [
    {
     "name": "stdout",
     "output_type": "stream",
     "text": [
      "\n",
      "\n",
      "1 \n",
      "\n",
      "2 4 \n",
      "\n",
      "3 6 9 \n",
      "\n",
      "4 8 12 16 \n",
      "\n",
      "5 10 15 20 25 \n",
      "\n",
      "6 12 18 24 30 36 "
     ]
    }
   ],
   "source": [
    "''' 5. Pattern\n",
    "Create a function that generates and prints a specific number pattern based on the input integer n. \n",
    "The pattern consists of rows where each row contains consecutive multiples of the row number.\n",
    "\n",
    "Example Output:\n",
    "\n",
    "For 'n = 3', the pattern will be:\n",
    "1\n",
    "2 4\n",
    "3 6 9\n",
    "\n",
    "For 'n = 6', the pattern will be:\n",
    "1\n",
    "2 4\n",
    "3 6 9\n",
    "4 8 12 16\n",
    "5 10 15 20 25\n",
    "6 12 18 24 30 36\n",
    "\n",
    "Only submissions with a written function that will encode this exact pattern will be considered for evaluation\n",
    "'''\n",
    "\n",
    "# BEGIN_YOUR_CODE\n",
    "def pattern(n):\n",
    "    for i in range(1,n+1):\n",
    "        print(\"\\n\")\n",
    "        for j in range(1,i+1):\n",
    "             print(j*i,end=\" \")\n",
    "            \n",
    "pattern(6)\n",
    "# END_YOUR_CODE"
   ]
  },
  {
   "cell_type": "code",
   "execution_count": 9,
   "metadata": {},
   "outputs": [
    {
     "name": "stdout",
     "output_type": "stream",
     "text": [
      "['Avengers', 'Age of Ultron', 'Infinity War', 'Endgame']\n"
     ]
    }
   ],
   "source": [
    "''' 6. Reversing\n",
    "Reverse the order of elements in a list given below, so the expected output is as follows: ['Avengers', 'Age of Ultron', 'Infinity War', 'Endgame']\n",
    "Print the reversed list.\n",
    "\n",
    "'''\n",
    "\n",
    "\n",
    "\n",
    "# BEGIN_YOUR_CODE\n",
    "list1 = [\"Endgame\", \"Infinity War\", \"Age of Ultron\", \"Avengers\"]\n",
    "print(list1[::-1])\n",
    "\n",
    "# END_YOUR_CODE"
   ]
  },
  {
   "cell_type": "code",
   "execution_count": 11,
   "metadata": {},
   "outputs": [
    {
     "name": "stdout",
     "output_type": "stream",
     "text": [
      "1. Christian Bale\n",
      "2. Chris Evans\n",
      "3. Chris Hemsworth\n",
      "4. Cate Blanchett\n"
     ]
    }
   ],
   "source": [
    "''' 7. Numbering a list\n",
    "Write a function that will return a numbered list of the famous actors whose name starts from 'C' using \"enumerate()\" function.\n",
    "Print the numbered list\n",
    "\n",
    "Expected output:\n",
    "1. Christian Bale\n",
    "2. Chris Evans\n",
    "3. Chris Hemsworth\n",
    "4. Cate Blanchett\n",
    "\n",
    "'''\n",
    "\n",
    "actors = ['Margot Robbie', 'Christian Bale', 'Ryan Gosling', 'Chris Evans', 'Chris Hemsworth', 'Cate Blanchett']\n",
    "\n",
    "# BEGIN_YOUR_CODE\n",
    "array=[]\n",
    "def numbered_list(actors):\n",
    "    for i in range(0,6):\n",
    "        if(actors[i][0]==\"C\"):\n",
    "            array.append(actors[i])\n",
    "    for i,word in enumerate(array):\n",
    "        print(f\"{i+1}. {word}\")\n",
    "\n",
    "        \n",
    "   \n",
    "numbered_list(actors)\n",
    "\n",
    "# END_YOUR_CODE"
   ]
  },
  {
   "cell_type": "code",
   "execution_count": 3,
   "metadata": {},
   "outputs": [
    {
     "name": "stdout",
     "output_type": "stream",
     "text": [
      "[('Robert Downey Jr.', 'Iron Man'), ('Scarlett Johansson', 'Black Widow'), ('Chris Evans', 'Captain America'), ('Chris Hemsworth', 'Thor'), ('Mark Ruffalo', 'Hulk')]\n"
     ]
    }
   ],
   "source": [
    "''' 8. Combining lists\n",
    "Combine two lists given below using zip() function and print out the result\n",
    "Print the combined list\n",
    "\n",
    "'''\n",
    "\n",
    "actors = ['Robert Downey Jr.', 'Scarlett Johansson', 'Chris Evans', 'Chris Hemsworth', 'Mark Ruffalo']\n",
    "role = ['Iron Man', 'Black Widow', 'Captain America', 'Thor', 'Hulk']\n",
    "\n",
    "# BEGIN_YOUR_CODE\n",
    "print(list(zip(actors,role)))\n",
    "# END_YOUR_CODE"
   ]
  },
  {
   "cell_type": "code",
   "execution_count": 12,
   "metadata": {},
   "outputs": [],
   "source": [
    "''' 9. Sum function\n",
    "Modify the given function to compute and return the sum of two integer values a and b\n",
    "'''\n",
    "\n",
    "def add(a: int, b: int) -> int:\n",
    "\n",
    "    # BEGIN_YOUR_CODE\n",
    "    return a+b\n",
    "    # END_YOUR_CODE"
   ]
  },
  {
   "cell_type": "markdown",
   "metadata": {},
   "source": [
    "We defined ```add_test``` to test your ```add``` function. For this function we ```import random``` library. This is a very commonly used package that helps to generate random values. For example:\n",
    "\n",
    "``` python\n",
    "random.randint(0, 100) #Returns any random integer in range [0, 100]\n",
    "```"
   ]
  },
  {
   "cell_type": "code",
   "execution_count": 13,
   "metadata": {},
   "outputs": [],
   "source": [
    "import random\n",
    "\n",
    "def add_test():\n",
    "    a = random.randint(0, 9)\n",
    "    b = random.randint(0, 9)\n",
    "    result = add(a, b)\n",
    "\n",
    "    return('Value of a is {0}, value of b is {1}, and their sum is {2}.'.format(a, b,result))"
   ]
  },
  {
   "cell_type": "code",
   "execution_count": 14,
   "metadata": {},
   "outputs": [
    {
     "name": "stdout",
     "output_type": "stream",
     "text": [
      "Value of a is 1, value of b is 7, and their sum is 8.\n"
     ]
    }
   ],
   "source": [
    "# Here we call our function 'add_test' to test your add function with random values\n",
    "if __name__ == '__main__':\n",
    "   print(add_test())"
   ]
  },
  {
   "cell_type": "markdown",
   "metadata": {},
   "source": [
    "In this section we will explore one of the most commonly used package - Numpy. You can refer to the [Official NumPy Guide](https://numpy.org/doc/stable/)."
   ]
  },
  {
   "cell_type": "code",
   "execution_count": 15,
   "metadata": {},
   "outputs": [],
   "source": [
    "''' 10. Import the numpy package\n",
    "'''\n",
    "\n",
    "# BEGIN_YOUR_CODE\n",
    "import numpy\n",
    "# END_YOUR_CODE"
   ]
  },
  {
   "cell_type": "code",
   "execution_count": 16,
   "metadata": {},
   "outputs": [
    {
     "name": "stdout",
     "output_type": "stream",
     "text": [
      "[49 10 32 40 10  4 39 28 14 39]\n"
     ]
    }
   ],
   "source": [
    "''' 11. Random integers\n",
    "Create a function that uses the NumPy library to generate an array of 10 random integers. \n",
    "The integers should be in the range [0, 50], both inclusive.\n",
    "Print the results.\n",
    "\n",
    "Example Output:\n",
    "[0 25 41 14  3  2 49 36  9 42]\n",
    "\n",
    "'''\n",
    "\n",
    "# BEGIN_YOUR_CODE\n",
    "import numpy as np\n",
    "import random\n",
    "def rand(n):\n",
    "    arr2= np.random.randint(0,51,n)\n",
    "    return arr2\n",
    "arr3=rand(10)\n",
    "print(arr3)\n",
    "# END_YOUR_CODE"
   ]
  },
  {
   "cell_type": "code",
   "execution_count": 17,
   "metadata": {},
   "outputs": [
    {
     "name": "stdout",
     "output_type": "stream",
     "text": [
      "The first 2 elements are [49 10] \n",
      "The last two elements are [14 39] \n",
      "Elements in the middle are [32 40 10  4 39 28].\n"
     ]
    }
   ],
   "source": [
    "''' 12. Slicing\n",
    "Slice the above array and extract the first 2 elements, the last two elements, and all elements that are left in the middle.\n",
    "'''\n",
    "\n",
    "# BEGIN_YOUR_CODE\n",
    "first_two =arr3[0:2]\n",
    "last_two =arr3[-2:]\n",
    "middle =arr3[2:-2]\n",
    "# END_YOUR_CODE\n",
    "\n",
    "print('The first 2 elements are {0} \\nThe last two elements are {1} \\nElements in the middle are {2}.'.format(first_two, last_two, middle))"
   ]
  },
  {
   "cell_type": "code",
   "execution_count": 42,
   "metadata": {},
   "outputs": [
    {
     "data": {
      "text/plain": [
       "[array([49, 10]),\n",
       " array([32, 40]),\n",
       " array([10,  4]),\n",
       " array([39, 28]),\n",
       " array([14, 39])]"
      ]
     },
     "execution_count": 42,
     "metadata": {},
     "output_type": "execute_result"
    }
   ],
   "source": [
    "''' 13. Split an array\n",
    "For the above list 'array' split the list into 5 equal parts and print it\n",
    "Output format will be as follows : [array([1,2]), array([3,4]), array([5,6]), array([7,8]), array([9,10])]\n",
    "Use built-in function from NumPy to split array\n",
    "'''\n",
    "\n",
    "# BEGIN_YOUR_CODE\n",
    "import numpy as np\n",
    "def separate(arr3):\n",
    "    return np.array_split(arr3,5)\n",
    "separate(arr3)\n",
    "# END_YOUR_CODE"
   ]
  },
  {
   "cell_type": "code",
   "execution_count": 19,
   "metadata": {},
   "outputs": [
    {
     "name": "stdout",
     "output_type": "stream",
     "text": [
      "[11 19  4 14 20  2 11  6  1 20]\n",
      "[ 1 11 20  6  5  2  9  6  3 20]\n",
      "[ 1  2  4  6 11 14 19 20]\n",
      "[ 1  2  6 11 20]\n"
     ]
    }
   ],
   "source": [
    "''' 14. Arrays\n",
    "a. Generate two arrays, 'array_a' and 'array_b', each containing 10 randomly selected integers from the range [1, 20] (both inclusive).\n",
    "b. Print both arrays\n",
    "b. Use a built-in NumPy function to find the unique elements in 'array_a' and store them in the variable 'unique_elements'.\n",
    "c. Use a built-in NumPy function to find the common elements shared by 'array_a' and 'array_b' and store them in the variable 'common_elements'.\n",
    "d. Print 'unique_elements' and 'common_elements'\n",
    "'''\n",
    "\n",
    "# BEGIN_YOUR_CODE\n",
    "import numpy as np\n",
    "import random\n",
    "array_a=np.random.randint(1,21,10)\n",
    "array_b=np.random.randint(1,21,10)\n",
    "print(array_a)\n",
    "print(array_b)\n",
    "unique_elements=np.unique(array_a)\n",
    "common_elements=np.intersect1d(array_a,array_b)\n",
    "print(unique_elements)\n",
    "print(common_elements)\n",
    "# END_YOUR_CODE"
   ]
  },
  {
   "cell_type": "code",
   "execution_count": 20,
   "metadata": {},
   "outputs": [
    {
     "name": "stdout",
     "output_type": "stream",
     "text": [
      "[15 30 45 60 75]\n",
      "[ 5 10 15 20 25]\n",
      "[ 30  60  90 120 150]\n",
      "15.0\n",
      "50\n"
     ]
    }
   ],
   "source": [
    "''' 15. Array operations\n",
    "You have two arrays, array1 and array2, both containing 5 integer values. Perform the following operations using NumPy functions:\n",
    "a. Calculate the element-wise sum of array1 and array2.\n",
    "b. Calculate the element-wise difference between array1 and array2.\n",
    "c. Calculate the element-wise product of array1 and a scalar value of 3.\n",
    "d. Calculate the mean (average) value of elements in array2.\n",
    "e. Calculate the maximum value in array1.\n",
    "\n",
    "\n",
    "Provide the resulting arrays and values after each operation.\n",
    "\n",
    "Expected output:\n",
    "Element-wise sum: [15 30 45 60 75]\n",
    "Element-wise difference: [ 5 10 15 20 25]\n",
    "Element-wise product with scalar: [ 30  60  90 120 150]\n",
    "Mean of array2: 15.0\n",
    "Maximum value in array1: 50\n",
    "'''\n",
    "\n",
    "\n",
    "# BEGIN_YOUR_CODE\n",
    "\n",
    "import numpy as np\n",
    "\n",
    "array1 = np.array([10, 20, 30, 40, 50])\n",
    "array2 = np.array([5, 10, 15, 20, 25])\n",
    "add=np.add(array1,array2)\n",
    "difference=np.subtract(array1,array2)\n",
    "product=np.multiply(array1,3)\n",
    "mean=np.average(array2)\n",
    "maximum=np.max(array1)\n",
    "\n",
    "print(add)\n",
    "print(difference)\n",
    "print(product)\n",
    "print(mean)\n",
    "print(maximum)\n",
    "# END_YOUR_CODE"
   ]
  },
  {
   "cell_type": "code",
   "execution_count": 21,
   "metadata": {},
   "outputs": [
    {
     "name": "stdout",
     "output_type": "stream",
     "text": [
      "[[15 30 45 60 75]\n",
      " [ 5 10 15 20 25]]\n"
     ]
    }
   ],
   "source": [
    "''' 16. Changing dimensions\n",
    "Combine your 1D arrays defined above to a 2D matrix and print its shape. The final output dimension should be 2x5.\n",
    "'''\n",
    "\n",
    "# BEGIN_YOUR_CODE\n",
    "import numpy as np\n",
    "merge=np.concatenate((add,difference))\n",
    "print(merge.reshape(2,5))\n",
    "# END_YOUR_CODE"
   ]
  },
  {
   "cell_type": "code",
   "execution_count": 22,
   "metadata": {},
   "outputs": [
    {
     "name": "stdout",
     "output_type": "stream",
     "text": [
      "[3 4 5 6 7 8]\n",
      "1\n"
     ]
    }
   ],
   "source": [
    "''' 17. Changing dimensions\n",
    "Convert a matrix below to 1D array and print its dimension\n",
    "'''\n",
    "import numpy as np\n",
    "A = np.array([[3,4], [5,6], [7,8]])\n",
    "\n",
    "# BEGIN_YOUR_CODE\n",
    "oned=(A.flatten())\n",
    "N=np.array(oned)\n",
    "print(N)\n",
    "print(N.ndim)\n",
    "\n",
    "# END_YOUR_CODE"
   ]
  },
  {
   "cell_type": "code",
   "execution_count": 23,
   "metadata": {},
   "outputs": [
    {
     "name": "stdout",
     "output_type": "stream",
     "text": [
      "[[0.11405789 0.72250281 0.90188328 0.04148719 0.97722684 0.72159655]\n",
      " [0.66389846 0.84510221 0.88363079 0.88576995 0.99042627 0.98267728]\n",
      " [0.16084521 0.64757402 0.00406559 0.2166881  0.18836963 0.33981222]\n",
      " [0.81059073 0.70231669 0.61560736 0.95003666 0.29420044 0.91723393]]\n",
      "[[0.68016551 0.05197152 0.55316866 0.83095264]\n",
      " [0.37461114 0.3330899  0.34914112 0.34693204]\n",
      " [0.21384498 0.3025074  0.47858533 0.39224433]\n",
      " [0.13634209 0.777211   0.11217261 0.62077881]\n",
      " [0.31207509 0.57278769 0.48073016 0.31711817]\n",
      " [0.08308212 0.32306191 0.86948807 0.73193635]]\n",
      "\n",
      "Matrix A is \n",
      "[[0.11405789 0.72250281 0.90188328 0.04148719 0.97722684 0.72159655]\n",
      " [0.66389846 0.84510221 0.88363079 0.88576995 0.99042627 0.98267728]\n",
      " [0.16084521 0.64757402 0.00406559 0.2166881  0.18836963 0.33981222]\n",
      " [0.81059073 0.70231669 0.61560736 0.95003666 0.29420044 0.91723393]] \n",
      "Matrix B is \n",
      "[[0.68016551 0.05197152 0.55316866 0.83095264]\n",
      " [0.37461114 0.3330899  0.34914112 0.34693204]\n",
      " [0.21384498 0.3025074  0.47858533 0.39224433]\n",
      " [0.13634209 0.777211   0.11217261 0.62077881]\n",
      " [0.31207509 0.57278769 0.48073016 0.31711817]\n",
      " [0.08308212 0.32306191 0.86948807 0.73193635]], \n",
      "Their product is \n",
      "[[0.91167543 1.34452068 1.84883253 1.56300819]\n",
      " [1.46860354 2.15650339 2.51511357 2.77466698]\n",
      " [0.46942071 0.61137817 0.72733908 0.80288536]\n",
      " [1.24362441 1.66550468 2.03374476 2.51310296]]\n"
     ]
    }
   ],
   "source": [
    "''' 18. Matrices\n",
    "a. Create two matrices A and B of size 4X6 and 6X4 respectively with random values in range (0 , 1), both exclusive.\n",
    "b. Perform the dot product of matrices A and B\n",
    "c. Print matrix A, matrix B, and their dot product\n",
    "'''\n",
    "import numpy as np\n",
    "import random\n",
    "\n",
    "# BEGIN_YOUR_CODE\n",
    "A =np.random.rand(4,6)\n",
    "B =np.random.rand(6,4)\n",
    "\n",
    "print(A)\n",
    "print(B)\n",
    "dot_product =np.dot(A,B)\n",
    "# END_YOUR_CODE\n",
    "\n",
    "print('\\nMatrix A is \\n{0} \\nMatrix B is \\n{1}, \\nTheir product is \\n{2}'.format(A, B, dot_product))"
   ]
  },
  {
   "cell_type": "code",
   "execution_count": 24,
   "metadata": {},
   "outputs": [
    {
     "name": "stdout",
     "output_type": "stream",
     "text": [
      "[[0.57028946 3.61251407 4.50941639 0.20743595 4.88613418 3.60798274]\n",
      " [3.31949228 4.22551103 4.41815396 4.42884974 4.95213133 4.91338639]\n",
      " [0.80422605 3.23787008 0.02032794 1.08344049 0.94184814 1.69906108]\n",
      " [4.05295367 3.51158344 3.07803681 4.7501833  1.47100219 4.58616963]]\n"
     ]
    }
   ],
   "source": [
    "''' 19. Matrix scalar multiplication\n",
    "a. Multiply the previously defined matrix A by a scalar value of 5 using the multiply() function.\n",
    "b. Print a modified matrix A\n",
    "'''\n",
    "\n",
    "# BEGIN_YOUR_CODE\n",
    "import numpy as np\n",
    "matrix=np.array(A)\n",
    "modified_matrix=(np.multiply(matrix,5))\n",
    "print(modified_matrix)\n",
    "\n",
    "# END_YOUR_CODE"
   ]
  },
  {
   "cell_type": "code",
   "execution_count": 25,
   "metadata": {},
   "outputs": [
    {
     "name": "stdout",
     "output_type": "stream",
     "text": [
      "[0.97722684 0.99042627 0.64757402 0.95003666]\n"
     ]
    }
   ],
   "source": [
    "''' 20. Maximum value\n",
    "a. Use the np.max() function to find the maximum value in each row of matrix A from Question 18.\n",
    "b. Store the resulting maximum values in the variable 'max_values'.\n",
    "c. Print out the results\n",
    "\n",
    "Expected output:\n",
    "max_values = [row1_max row2_max row3_max row4_max row5_max]\n",
    "'''\n",
    "\n",
    "# BEGIN_YOUR_CODE\n",
    "import numpy as np\n",
    "matrix1=np.array(A)\n",
    "max_values=np.amax(matrix1,axis=1)\n",
    "print(max_values)\n",
    "# END_YOUR_CODE"
   ]
  },
  {
   "cell_type": "code",
   "execution_count": 26,
   "metadata": {},
   "outputs": [
    {
     "name": "stdout",
     "output_type": "stream",
     "text": [
      "\n",
      "Matrix A is \n",
      "[[3 1 7 3]\n",
      " [7 1 0 6]\n",
      " [8 7 6 1]] \n",
      "Matrix B is \n",
      "[[9 7 3 5]\n",
      " [8 6 5 8]\n",
      " [6 5 5 1]], \n",
      "Their element-wise multiplication is \n",
      "[[27  7 21 15]\n",
      " [56  6  0 48]\n",
      " [48 35 30  1]]\n"
     ]
    }
   ],
   "source": [
    "''' 21. Element-wise multiplication\n",
    "Define two matrices A (3X4) and B (3X4) with random integer values in range [0, 9], both inclusive. Perform element-wise multiplication of Matrices A and B\n",
    "'''\n",
    "\n",
    "# BEGIN_YOUR_CODE\n",
    "import random\n",
    "import numpy as np\n",
    "A =np.array(np.random.randint(0,10,size=(3,4)))\n",
    "B =np.array(np.random.randint(0,10,size=(3,4)))\n",
    "multiplication =np.multiply(A,B)\n",
    "# END_YOUR_CODE\n",
    "\n",
    "print('\\nMatrix A is \\n{0} \\nMatrix B is \\n{1}, \\nTheir element-wise multiplication is \\n{2}'.format(A, B, multiplication))"
   ]
  },
  {
   "cell_type": "markdown",
   "metadata": {},
   "source": [
    "<a id='part2'></a>\n",
    "## Part 2 - Algorithms [10 Points]"
   ]
  },
  {
   "cell_type": "markdown",
   "metadata": {},
   "source": [
    "### Euclidian Distance\n",
    "\n",
    "Let point $p$ have Cartesian coordinates $(p_1,p_2)$ and let point $q$ have coordinates $(q_1,q_2)$. Then the distance between $p$ and $q$ is given by:\n",
    "    $d(p,q) = \\sqrt{(q_1-p_1)^2 + (q_2-p_2)^2}$.</math>"
   ]
  },
  {
   "cell_type": "code",
   "execution_count": 27,
   "metadata": {},
   "outputs": [],
   "source": [
    "''' 1. Euclidean distance\n",
    "Using numpy library return the Euclidean distance between two locations, where the locations are pairs of numbers (e.g., (3, 5)) '''\n",
    "import numpy as np\n",
    "def euclidean_distance(loc1: int, loc2: int) -> float:\n",
    "\n",
    "    # BEGIN_YOUR_CODE\n",
    "\n",
    "#     raise Exception(\"Not implemented yet\")\n",
    "    return np.sqrt((loc2[0]-loc1[0])**2+(loc2[1]-loc1[1])**2)\n",
    "\n",
    "    # END_YOUR_CODE"
   ]
  },
  {
   "cell_type": "code",
   "execution_count": 28,
   "metadata": {},
   "outputs": [],
   "source": [
    "def euclidean_distance_test():\n",
    "    random.seed(42)\n",
    "    for _ in range(10):\n",
    "        x1 = random.randint(0, 10)\n",
    "        x2 = random.randint(0, 10)\n",
    "        y1 = random.randint(0, 10)\n",
    "        y2 = random.randint(0, 10)\n",
    "        dist = euclidean_distance((x1, x2), (y1, y2))\n",
    "    return('Loc1 is ({0}, {1}), loc2 is ({2}, {3}). Euclidian disctance is {4}.'.format(x1, x2, y1, y2, dist))"
   ]
  },
  {
   "cell_type": "code",
   "execution_count": 29,
   "metadata": {},
   "outputs": [
    {
     "name": "stdout",
     "output_type": "stream",
     "text": [
      "Loc1 is (3, 5), loc2 is (1, 1). Euclidian disctance is 4.47213595499958.\n"
     ]
    }
   ],
   "source": [
    "if __name__ == '__main__':\n",
    "    print(euclidean_distance_test())"
   ]
  },
  {
   "cell_type": "markdown",
   "metadata": {},
   "source": [
    "### String Operations"
   ]
  },
  {
   "cell_type": "code",
   "execution_count": 30,
   "metadata": {},
   "outputs": [],
   "source": [
    "''' 2. Alphabetically first word\n",
    "Given a string, lowercase all the elements, then sort our all words in the alphabetical order and return the word that comes first, lexicographically.\n",
    "If the input text is an empty string, return an empty string or throw an error. '''\n",
    "\n",
    "def first_word(text: str) -> str:\n",
    "\n",
    "    # BEGIN_YOUR_CODE\n",
    "    \n",
    "    if(len(text)==0):\n",
    "        print(\"Error: Empty String\")\n",
    "        return \"\"\n",
    "    else:\n",
    "        result=text.lower()\n",
    "        splitted=result.split(\" \")\n",
    "        splitted.sort()\n",
    "#   \n",
    "    return splitted[0]\n",
    "\n",
    "    # END_YOUR_CODE"
   ]
  },
  {
   "cell_type": "code",
   "execution_count": 31,
   "metadata": {},
   "outputs": [],
   "source": [
    "''' The output for following test cases will be as follows 'to', 'class', 'decisions', 'cat'\n",
    "'''\n",
    "\n",
    "def first_word_test():\n",
    "    result0 = first_word('WelCome tO Ub')\n",
    "    result1 = first_word('CSE574 IntRo to ML cLasS')\n",
    "    result2 = first_word('SequenCes of DeCiSions')\n",
    "    result3 = first_word('Wolf, Panther, Leopard, Dog, Cat')\n",
    "    return result0, result1, result2, result3"
   ]
  },
  {
   "cell_type": "code",
   "execution_count": 32,
   "metadata": {},
   "outputs": [
    {
     "name": "stdout",
     "output_type": "stream",
     "text": [
      "('to', 'class', 'decisions', 'cat')\n"
     ]
    }
   ],
   "source": [
    "if __name__ == '__main__':\n",
    "    print(first_word_test())"
   ]
  },
  {
   "cell_type": "markdown",
   "metadata": {},
   "source": [
    "## Load from Drive*\n",
    "\n",
    "*If you are using Goolge Colab, uncomment the following piece of code and verify the file using the command, if you can see your file ```penguins.csv``` you are good to go."
   ]
  },
  {
   "cell_type": "code",
   "execution_count": null,
   "metadata": {},
   "outputs": [],
   "source": [
    "# !pwd\n",
    "# !ls"
   ]
  },
  {
   "cell_type": "code",
   "execution_count": null,
   "metadata": {},
   "outputs": [],
   "source": [
    "#from google.colab import drive\n",
    "#drive.mount('/content/drive')\n",
    "#%cd ..\n",
    "#%cd /content/drive/MyDrive"
   ]
  },
  {
   "cell_type": "markdown",
   "metadata": {},
   "source": [
    "<a id='part3'></a>\n",
    "##  Part 3 - Pandas Basics [20 Points]\n",
    "\n",
    "Some important resources:\n",
    "\n",
    "- [A Pandas guide](https://pandasguide.readthedocs.io/en/latest/) covers fundamental information about the package\n",
    "\n",
    "- [Pandas Cheat Sheet](https://www.datacamp.com/community/blog/python-pandas-cheat-sheet)\n",
    "\n",
    "### Penguin dataset\n",
    "In this section we will explore with you Palmer Archipelago (Antarctica) penguin dataset. It contains three penguin species and includes measurements of bill length, bill depth, flipper length and body mass. Overall, we are provided with 344 data samples.\n",
    "![image.png](attachment:image.png)\n",
    "\n",
    "The dataset consists of 7 columns:\n",
    "- species: penguin species (Chinstrap, Adélie, or Gentoo)\n",
    "- culmen_length_mm: culmen length (mm)\n",
    "- culmen_depth_mm: culmen depth (mm)\n",
    "- flipper_length_mm: flipper length (mm)\n",
    "- body_mass_g: body mass (g)\n",
    "- island: island name (Dream, Torgersen, or Biscoe) in the Palmer Archipelago (Antarctica)\n",
    "- gender: penguin gender (female, male)\n",
    "\n",
    "#### What are culmen length & depth?\n",
    "The culmen is \"the upper ridge of a bird's beak\"\n",
    "\n",
    "#### What are flippers?\n",
    "Penguins wings are called flippers. They are flat, thin, and broad with a long, tapered shape and a blunt, rounded tip.\n",
    " \n",
    "![image.png](attachment:image-2.png)\n"
   ]
  },
  {
   "cell_type": "code",
   "execution_count": 33,
   "metadata": {},
   "outputs": [
    {
     "name": "stdout",
     "output_type": "stream",
     "text": [
      "Requirement already satisfied: pandas in e:\\my_programs\\anaconda3\\lib\\site-packages (1.5.3)\n",
      "Requirement already satisfied: pytz>=2020.1 in e:\\my_programs\\anaconda3\\lib\\site-packages (from pandas) (2022.7)\n",
      "Requirement already satisfied: python-dateutil>=2.8.1 in e:\\my_programs\\anaconda3\\lib\\site-packages (from pandas) (2.8.2)\n",
      "Requirement already satisfied: numpy>=1.21.0 in e:\\my_programs\\anaconda3\\lib\\site-packages (from pandas) (1.23.5)\n",
      "Requirement already satisfied: six>=1.5 in e:\\my_programs\\anaconda3\\lib\\site-packages (from python-dateutil>=2.8.1->pandas) (1.16.0)\n"
     ]
    }
   ],
   "source": [
    "''' 1. Install and import pandas library\n",
    "'''\n",
    "\n",
    "# BEGIN_YOUR_CODE\n",
    "!pip install pandas\n",
    "import pandas as pd\n",
    "# END_YOUR_CODE"
   ]
  },
  {
   "cell_type": "code",
   "execution_count": 34,
   "metadata": {},
   "outputs": [
    {
     "name": "stdout",
     "output_type": "stream",
     "text": [
      "       species     island  bill_length_mm  bill_depth_mm  flipper_length_mm  \\\n",
      "0       Adelie  Torgersen            39.1           18.7              181.0   \n",
      "1       Adelie  Torgersen            39.5           17.4              186.0   \n",
      "2       Adelie  Torgersen            40.3           18.0              195.0   \n",
      "3       Adelie  Torgersen             NaN            NaN                NaN   \n",
      "4       Adelie  Torgersen            36.7           19.3              193.0   \n",
      "..         ...        ...             ...            ...                ...   \n",
      "339  Chinstrap      Dream            55.8           19.8              207.0   \n",
      "340  Chinstrap      Dream            43.5           18.1              202.0   \n",
      "341  Chinstrap      Dream            49.6           18.2              193.0   \n",
      "342  Chinstrap      Dream            50.8           19.0              210.0   \n",
      "343  Chinstrap      Dream            50.2           18.7              198.0   \n",
      "\n",
      "     body_mass_g  gender  year  \n",
      "0         3750.0    male  2007  \n",
      "1         3800.0  female  2007  \n",
      "2         3250.0  female  2007  \n",
      "3            NaN     NaN  2007  \n",
      "4         3450.0  female  2007  \n",
      "..           ...     ...   ...  \n",
      "339       4000.0    male  2009  \n",
      "340       3400.0  female  2009  \n",
      "341       3775.0    male  2009  \n",
      "342       4100.0    male  2009  \n",
      "343       3775.0  female  2009  \n",
      "\n",
      "[344 rows x 8 columns]\n"
     ]
    }
   ],
   "source": [
    "''' 2. Reading data\n",
    "Read the dataset and extract it into a DataFrame using the Pandas library.\n",
    "'''\n",
    "import pandas as pd\n",
    "# BEGIN_YOUR_CODE\n",
    "# df=pd.DataFrame(penguins.csv)\n",
    "penguin=pd.read_csv(\"penguins.csv\")\n",
    "print(penguin)\n",
    "# END_YOUR_CODE"
   ]
  },
  {
   "cell_type": "code",
   "execution_count": 35,
   "metadata": {},
   "outputs": [
    {
     "name": "stdout",
     "output_type": "stream",
     "text": [
      "       bill_length_mm  bill_depth_mm  flipper_length_mm  body_mass_g  \\\n",
      "count      342.000000     342.000000         342.000000   342.000000   \n",
      "mean        43.921930      17.151170         200.915205  4201.754386   \n",
      "std          5.459584       1.974793          14.061714   801.954536   \n",
      "min         32.100000      13.100000         172.000000  2700.000000   \n",
      "25%         39.225000      15.600000         190.000000  3550.000000   \n",
      "50%         44.450000      17.300000         197.000000  4050.000000   \n",
      "75%         48.500000      18.700000         213.000000  4750.000000   \n",
      "max         59.600000      21.500000         231.000000  6300.000000   \n",
      "\n",
      "              year  \n",
      "count   344.000000  \n",
      "mean   2008.029070  \n",
      "std       0.818356  \n",
      "min    2007.000000  \n",
      "25%    2007.000000  \n",
      "50%    2008.000000  \n",
      "75%    2009.000000  \n",
      "max    2009.000000  \n"
     ]
    }
   ],
   "source": [
    "''' 3. Basic Statistics \n",
    "Provide the main statistics about the entries in the dataset, including mean, standard deviation, and other relevant statistics.\n",
    "'''\n",
    "\n",
    "# BEGIN_YOUR_CODE\n",
    "print(penguin.describe())\n",
    "\n",
    "\n",
    "# END_YOUR_CODE"
   ]
  },
  {
   "cell_type": "code",
   "execution_count": 36,
   "metadata": {},
   "outputs": [
    {
     "name": "stdout",
     "output_type": "stream",
     "text": [
      "   species     island  bill_length_mm  bill_depth_mm  flipper_length_mm  \\\n",
      "0   Adelie  Torgersen            39.1           18.7              181.0   \n",
      "1   Adelie  Torgersen            39.5           17.4              186.0   \n",
      "2   Adelie  Torgersen            40.3           18.0              195.0   \n",
      "3   Adelie  Torgersen             NaN            NaN                NaN   \n",
      "4   Adelie  Torgersen            36.7           19.3              193.0   \n",
      "5   Adelie  Torgersen            39.3           20.6              190.0   \n",
      "6   Adelie  Torgersen            38.9           17.8              181.0   \n",
      "7   Adelie  Torgersen            39.2           19.6              195.0   \n",
      "8   Adelie  Torgersen            34.1           18.1              193.0   \n",
      "9   Adelie  Torgersen            42.0           20.2              190.0   \n",
      "10  Adelie  Torgersen            37.8           17.1              186.0   \n",
      "11  Adelie  Torgersen            37.8           17.3              180.0   \n",
      "12  Adelie  Torgersen            41.1           17.6              182.0   \n",
      "13  Adelie  Torgersen            38.6           21.2              191.0   \n",
      "14  Adelie  Torgersen            34.6           21.1              198.0   \n",
      "\n",
      "    body_mass_g  gender  year  \n",
      "0        3750.0    male  2007  \n",
      "1        3800.0  female  2007  \n",
      "2        3250.0  female  2007  \n",
      "3           NaN     NaN  2007  \n",
      "4        3450.0  female  2007  \n",
      "5        3650.0    male  2007  \n",
      "6        3625.0  female  2007  \n",
      "7        4675.0    male  2007  \n",
      "8        3475.0     NaN  2007  \n",
      "9        4250.0     NaN  2007  \n",
      "10       3300.0     NaN  2007  \n",
      "11       3700.0     NaN  2007  \n",
      "12       3200.0  female  2007  \n",
      "13       3800.0    male  2007  \n",
      "14       4400.0    male  2007  \n"
     ]
    }
   ],
   "source": [
    "''' 4. Dataset overview\n",
    "Print top 15 rows of the dataset'''\n",
    "import pandas as pd\n",
    "# BEGIN_YOUR_CODE\n",
    "df=penguin.head(15)\n",
    "print(df)\n",
    "# END_YOUR_CODE"
   ]
  },
  {
   "cell_type": "code",
   "execution_count": 37,
   "metadata": {},
   "outputs": [
    {
     "name": "stdout",
     "output_type": "stream",
     "text": [
      "(344, 8)\n"
     ]
    }
   ],
   "source": [
    "''' 5. Shape\n",
    "Print shape of the dataset '''\n",
    "\n",
    "# BEGIN_YOUR_CODE\n",
    "print(penguin.shape)\n",
    "# END_YOUR_CODE"
   ]
  },
  {
   "cell_type": "code",
   "execution_count": 38,
   "metadata": {},
   "outputs": [
    {
     "data": {
      "text/plain": [
       "Index(['species', 'island', 'bill_length_mm', 'bill_depth_mm',\n",
       "       'flipper_length_mm', 'body_mass_g', 'gender', 'year'],\n",
       "      dtype='object')"
      ]
     },
     "execution_count": 38,
     "metadata": {},
     "output_type": "execute_result"
    }
   ],
   "source": [
    "''' 6. Columns\n",
    "Identify and return all the unique column names'''\n",
    "\n",
    "# BEGIN_YOUR_CODE\n",
    "import pandas as pd\n",
    "penguin=pd.read_csv(\"penguins.csv\")\n",
    "penguin.columns.unique()\n",
    "# END_YOUR_CODE"
   ]
  },
  {
   "cell_type": "code",
   "execution_count": 39,
   "metadata": {},
   "outputs": [
    {
     "name": "stdout",
     "output_type": "stream",
     "text": [
      "['Adelie' 'Gentoo' 'Chinstrap']\n"
     ]
    }
   ],
   "source": [
    "''' 7. Penguin species\n",
    "Print a list of penguin species used in the dateset'''\n",
    "\n",
    "# BEGIN_YOUR_CODE\n",
    "import pandas as p\n",
    "print(penguin[\"species\"].unique())\n",
    "# END_YOUR_CODE"
   ]
  },
  {
   "cell_type": "code",
   "execution_count": 40,
   "metadata": {},
   "outputs": [
    {
     "name": "stdout",
     "output_type": "stream",
     "text": [
      "0      2\n",
      "1      2\n",
      "2      2\n",
      "3      2\n",
      "4      2\n",
      "      ..\n",
      "339    1\n",
      "340    1\n",
      "341    1\n",
      "342    1\n",
      "343    1\n",
      "Name: island, Length: 344, dtype: category\n",
      "Categories (3, int64): [0, 1, 2]\n"
     ]
    }
   ],
   "source": [
    "''' 8. String to categorical\n",
    "Convert one of the features with string datatype to categorical (e.g. species, island, gender).\n",
    "This can be done by assigning a unique numerical value to each unique string value in each categorical feature\n",
    "\n",
    "https://pandas.pydata.org/docs/user_guide/categorical.html\n",
    "\n",
    "Example:\n",
    "species = ['setosa', 'versicolor', 'setosa', 'virginica', 'versicolor']\n",
    "species_categorical = [0, 1, 0, 2, 1]\n",
    "'''\n",
    "\n",
    "# BEGIN_YOUR_CODE\n",
    "import pandas as pd\n",
    "penguin=pd.read_csv(\"penguins.csv\")\n",
    "print(penguin['island'].astype('category').cat.rename_categories([0,1,2]))\n",
    "# END_YOUR_CODE"
   ]
  },
  {
   "cell_type": "code",
   "execution_count": 41,
   "metadata": {},
   "outputs": [
    {
     "name": "stdout",
     "output_type": "stream",
     "text": [
      "0      0.291667\n",
      "1      0.305556\n",
      "2      0.152778\n",
      "3           NaN\n",
      "4      0.208333\n",
      "         ...   \n",
      "339    0.361111\n",
      "340    0.194444\n",
      "341    0.298611\n",
      "342    0.388889\n",
      "343    0.298611\n",
      "Name: body_mass_g, Length: 344, dtype: float64\n"
     ]
    }
   ],
   "source": [
    "''' 9. Feature normalization\n",
    "Normalize one of the non-categorical features.\n",
    "   a. Select a column that you want to normalize (e.g. culmen_length_mm, culmen_depth_mm, flipper_length_mm, body_mass_g)\n",
    "   b. Find the min and max values for accross the selected column\n",
    "   c. Rescale the selected column to the range from 0 to 1 using the formula (x - min) / (max - min), where x is the original value\n",
    "   d. Store the normalized values and print the results\n",
    "\n",
    "Why do we do this? Normalization is to transform features to be on a similar scale. This improves the performance and training stability of the model.\n",
    "Note: normalize() function is not allowed as it is a part of scikit-learn library\n",
    "'''\n",
    "\n",
    "# BEGIN_YOUR_CODE\n",
    "import pandas as pd\n",
    "penguin=pd.read_csv(\"penguins.csv\")\n",
    "column_name=penguin[\"body_mass_g\"]\n",
    "column_name_min=column_name.min()\n",
    "column_name_max=column_name.max()\n",
    "normalized_value=(column_name-column_name_min)/(column_name_max-column_name_min)\n",
    "print(normalized_value)\n",
    "# END_YOUR_CODE"
   ]
  },
  {
   "cell_type": "markdown",
   "metadata": {},
   "source": [
    "<a id='part4'></a>\n",
    "## Part 4: Matplotlib Basics [20 Points]"
   ]
  },
  {
   "cell_type": "markdown",
   "metadata": {},
   "source": [
    "Heatmaps is a useful plot tool which help us visualize the data density or distribution. Refer the below documentation for more details on heatmap.\n",
    "\n",
    "[Matplotlib tutorial](https://machinelearningknowledge.ai/matplotlib-heatmap-complete-tutorial-for-beginners/)\n",
    "\n",
    "**Note:** You can only use matplotlib library for the following tasks"
   ]
  },
  {
   "cell_type": "code",
   "execution_count": 34,
   "metadata": {},
   "outputs": [
    {
     "name": "stdout",
     "output_type": "stream",
     "text": [
      "Requirement already satisfied: matplotlib in e:\\my_programs\\anaconda3\\lib\\site-packages (3.7.0)\n",
      "Requirement already satisfied: packaging>=20.0 in e:\\my_programs\\anaconda3\\lib\\site-packages (from matplotlib) (22.0)\n",
      "Requirement already satisfied: pillow>=6.2.0 in e:\\my_programs\\anaconda3\\lib\\site-packages (from matplotlib) (9.4.0)\n",
      "Requirement already satisfied: contourpy>=1.0.1 in e:\\my_programs\\anaconda3\\lib\\site-packages (from matplotlib) (1.0.5)\n",
      "Requirement already satisfied: cycler>=0.10 in e:\\my_programs\\anaconda3\\lib\\site-packages (from matplotlib) (0.11.0)\n",
      "Requirement already satisfied: pyparsing>=2.3.1 in e:\\my_programs\\anaconda3\\lib\\site-packages (from matplotlib) (3.0.9)\n",
      "Requirement already satisfied: fonttools>=4.22.0 in e:\\my_programs\\anaconda3\\lib\\site-packages (from matplotlib) (4.25.0)\n",
      "Requirement already satisfied: python-dateutil>=2.7 in e:\\my_programs\\anaconda3\\lib\\site-packages (from matplotlib) (2.8.2)\n",
      "Requirement already satisfied: kiwisolver>=1.0.1 in e:\\my_programs\\anaconda3\\lib\\site-packages (from matplotlib) (1.4.4)\n",
      "Requirement already satisfied: numpy>=1.20 in e:\\my_programs\\anaconda3\\lib\\site-packages (from matplotlib) (1.23.5)\n",
      "Requirement already satisfied: six>=1.5 in e:\\my_programs\\anaconda3\\lib\\site-packages (from python-dateutil>=2.7->matplotlib) (1.16.0)\n"
     ]
    }
   ],
   "source": [
    "''' 1. Install and import matplotlib library\n",
    "'''\n",
    "\n",
    "# BEGIN_YOUR_CODE\n",
    "!pip install matplotlib\n",
    "import matplotlib.pyplot as plt\n",
    "# END_YOUR_CODE"
   ]
  },
  {
   "cell_type": "code",
   "execution_count": 16,
   "metadata": {},
   "outputs": [
    {
     "data": {
      "image/png": "[encoded data removed]",
      "text/plain": [
       "<Figure size 640x480 with 2 Axes>"
      ]
     },
     "metadata": {},
     "output_type": "display_data"
    }
   ],
   "source": [
    "''' 2. Creating and visualizing a heatmap\n",
    "Randomly generated 2D array to create and visualize a heatmap using Matplotlib.\n",
    "You can refer to: https://matplotlib.org/stable/gallery/images_contours_and_fields/image_annotated_heatmap.html\n",
    "a. Generate a random 2D array with dimensions 12x15 using any function, e.g. np.random.rand(), np.random.uniform(), np.random.randint()\n",
    "b. Create the heatmap using plt.imshow() and pass the random array as the data\n",
    "c. Customize the plot by adding a colorbar using plt.colorbar() and providing a descriptive title using plt.title()\n",
    "d. Display the heatmap using plt.show()\n",
    "'''\n",
    "\n",
    "# BEGIN YOUR CODE\n",
    "import random\n",
    "import numpy as np\n",
    "import matplotlib.pyplot as plt\n",
    "\n",
    "array=np.random.rand(12,15)\n",
    "plt.imshow(array)\n",
    "plt.colorbar(label=\"2D matrix\", orientation=\"horizontal\")\n",
    "plt.title(\"12*15 matrix\")\n",
    "plt.show()\n",
    "\n",
    "\n",
    "\n",
    "# END YOUR CODE"
   ]
  },
  {
   "cell_type": "code",
   "execution_count": 20,
   "metadata": {},
   "outputs": [
    {
     "data": {
      "image/png": "[encoded data removed]",
      "text/plain": [
       "<Figure size 640x480 with 1 Axes>"
      ]
     },
     "metadata": {},
     "output_type": "display_data"
    }
   ],
   "source": [
    "''' 3. Plotting a function\n",
    "Explore list comprehension and visualization by plotting the function y = 1/x, for a given range of x values. \n",
    "List comprehension is a powerful technique that allows you to create lists in a concise and efficient way.\n",
    "You can check https://docs.python.org/3/tutorial/datastructures.html#list-comprehensions to learn how to use list comprehension\n",
    "a. Given the range of x values from 1 to 25, both inclusive, use list comprehension to calculate the corresponding y values for y = 1/x\n",
    "b. Create the plot using plt.plot() by passing the calculated x and y values as arguments\n",
    "c. Improve the plot by providing a title, labeling the x-axis and y-axis using plt.title(), plt.xlabel(), and plt.ylabel()\n",
    "d. Add a grid to the plot for better readability using plt.grid()\n",
    "e. Display the plot using plt.show()\n",
    "\n",
    "'''\n",
    "\n",
    "# BEGIN YOUR CODE\n",
    "import matplotlib.pyplot as plt\n",
    "x = range(1,26)\n",
    "y=[1/x for x in range(1,26)]\n",
    "plt.plot(x,y)\n",
    "plt.xlabel(\"x\")\n",
    "plt.ylabel(\"1/x\")\n",
    "plt.title(\"X vs 1/X plot\")\n",
    "plt.grid()\n",
    "plt.show()\n",
    "# END YOUR CODE"
   ]
  },
  {
   "cell_type": "code",
   "execution_count": 21,
   "metadata": {},
   "outputs": [
    {
     "data": {
      "image/png": "[encoded data removed]",
      "text/plain": [
       "<Figure size 640x480 with 1 Axes>"
      ]
     },
     "metadata": {},
     "output_type": "display_data"
    }
   ],
   "source": [
    "''' 4. Plotting a function using lambda function\n",
    "For the given value x plot the function y = x^3 using lambda function y.\n",
    "\n",
    "Lambda function is a small anonymous function which consist of a single expression, and is usually used when we need the function for a smaller duration\n",
    "https://realpython.com/python-lambda/\n",
    "\n",
    "a. Given the range of x values from 0 to 24, use a lambda function to calculate the corresponding y values based on the function y = x^3\n",
    "b. Create the plot using plt.plot() with the calculated x and y values\n",
    "c. Customize the plot by adding a title, x-axis label, y-axis label, and grid using plt.title(), plt.xlabel(), plt.ylabel(), and plt.grid().\n",
    "d. Display the plot\n",
    "'''\n",
    "import matplotlib.pyplot as plt\n",
    "x = range(25)\n",
    "# BEGIN YOUR CODE\n",
    "y=list(map(lambda x: x**3,x))\n",
    "plt.plot(x,y)\n",
    "plt.xlabel(\"x\")\n",
    "plt.ylabel(\"x**3\")\n",
    "plt.title(\"x vs x**3 plot\")\n",
    "plt.grid()\n",
    "plt.show()\n",
    "# END YOUR CODE\n"
   ]
  },
  {
   "cell_type": "code",
   "execution_count": 22,
   "metadata": {},
   "outputs": [
    {
     "data": {
      "image/png": "[encoded data removed]",
      "text/plain": [
       "<Figure size 640x480 with 1 Axes>"
      ]
     },
     "metadata": {},
     "output_type": "display_data"
    }
   ],
   "source": [
    "''' 5. Plotting multiple functions on one graph\n",
    "Plot a graph with two lines representing the functions y = x^3 and y = x^4 for the provided range of x values.\n",
    "\n",
    "a. Given the range of x values from 0 to 24, use a lambda function to calculate the corresponding y values for y = x^3 (you can use your code from above)\n",
    "b. For the function y = x^4, calculate the y values using either list comprehension or a lambda function.\n",
    "c. Create the line plot for y = x^3 using plt.plot() and the scatter plot for y = x^4 using plt.scatter().\n",
    "d. Customize the plot by adding a title, x-axis label, y-axis label, legend, and grid using appropriate functions such as plt.title(), plt.xlabel(), plt.ylabel(), plt.legend(), and plt.grid().\n",
    "e. Display the plot using plt.show()\n",
    "\n",
    "Note: you can check more at https://matplotlib.org/stable/tutorials/introductory/pyplot.html\n",
    "'''\n",
    "\n",
    "x = range(25)\n",
    "\n",
    "# BEGIN YOUR CODE\n",
    "y1=list(map(lambda x: x**3,x))\n",
    "y2=[x**4 for x in range(25)]\n",
    "plt.plot(x,y1,label=\"x^3\")\n",
    "plt.scatter(x,y2,label=\"x^4\")\n",
    "plt.title(\"Multiple Functions plot\")\n",
    "plt.xlabel(\"x\")\n",
    "plt.ylabel(\"x**4, x**3\")\n",
    "plt.grid()\n",
    "plt.legend()\n",
    "plt.show()\n",
    "\n",
    "# END YOUR CODE"
   ]
  },
  {
   "cell_type": "code",
   "execution_count": 23,
   "metadata": {},
   "outputs": [
    {
     "data": {
      "image/png": "[encoded data removed]",
      "text/plain": [
       "<Figure size 640x480 with 2 Axes>"
      ]
     },
     "metadata": {},
     "output_type": "display_data"
    }
   ],
   "source": [
    "'''6. Creating subplots\n",
    "\n",
    "Create subplots to display the graphs of the tangent (tan) and cotangent (cot) functions side by side. The value of \n",
    "theta will range from -60 to 60 degrees.\n",
    "\n",
    "a. Generate an array of theta values using np.linspace() or np.arange() to cover the range from -60 to 60 degrees.\n",
    "b. Calculate the corresponding y values for both the tangent (tan) and cotangent (cot) functions using np.tan() and 1 / np.tan()\n",
    "c. Create subplots using plt.subplots() and arrange them side by side\n",
    "d. Plot the tangent and cotangent functions in their respective subplots using plt.plot()\n",
    "e. Customize each subplot with titles and labels for x-axis and y-axis using plt.title(), plt.xlabel(), and plt.ylabel()\n",
    "f. Display the subplots using plt.show()\n",
    "'''\n",
    "\n",
    "# BEGIN YOUR CODE\n",
    "import matplotlib.pyplot as plt\n",
    "import numpy as np\n",
    "x=np.linspace(-60,61)\n",
    "y=np.tan(np.deg2rad(x))\n",
    "y1=1/np.tan(np.deg2rad(x))\n",
    "fig,ax=plt.subplots(1,2)\n",
    "ax[0].plot(x,y)\n",
    "ax[0].set_xlabel(\"x\")\n",
    "ax[0].set_ylabel(\"tan X\")\n",
    "ax[0].grid()\n",
    "ax[0].set_title(\"tan x graph\")\n",
    "\n",
    "ax[1].plot(x,y1)\n",
    "ax[1].set_xlabel(\"x\")\n",
    "ax[1].set_ylabel(\"cot X\")\n",
    "ax[1].set_title(\"cot x graph\")\n",
    "plt.tight_layout()\n",
    "ax[1].grid()\n",
    "plt.show()\n",
    "\n",
    "\n",
    "# END YOUR CODE"
   ]
  },
  {
   "cell_type": "code",
   "execution_count": 27,
   "metadata": {},
   "outputs": [
    {
     "data": {
      "image/png": "[encoded data removed]",
      "text/plain": [
       "<Figure size 640x480 with 1 Axes>"
      ]
     },
     "metadata": {},
     "output_type": "display_data"
    }
   ],
   "source": [
    "''' 7. Plotting total number of penguins per species\n",
    "Use Penguin (\"penguin.csv\") dataset uploaded above to plot the total number of penguins per species\n",
    "a. Group the data by the \"species\" column and calculate the total number of penguins for each species using groupby() and count()\n",
    "b. Create a bar graph using plt.bar() to display the total number of penguins per species\n",
    "c. Customize the graph by adding a title, x-axis label, y-axis label, rotating x-axis labels for better readability\n",
    "d. Display the plot\n",
    "'''\n",
    "\n",
    "# BEGIN YOUR CODE\n",
    "import pandas as pd\n",
    "import matplotlib.pyplot as plt\n",
    "penguin=pd.read_csv(\"penguins.csv\")\n",
    "data=penguin.groupby([\"species\"]).size()\n",
    "data.plot(kind=\"bar\",label=\"No of Penguins\")\n",
    "plt.title(\"Total number of Penguins per Species\")\n",
    "plt.xlabel(\"Species\")\n",
    "plt.ylabel(\"No. of Penguins\")\n",
    "plt.xticks(rotation=0, horizontalalignment=\"center\")\n",
    "plt.legend()\n",
    "plt.show()\n",
    "# END YOUR CODE"
   ]
  },
  {
   "cell_type": "code",
   "execution_count": 28,
   "metadata": {},
   "outputs": [
    {
     "name": "stdout",
     "output_type": "stream",
     "text": [
      "body_mass_g\n",
      "(3200, 3500]    50\n",
      "(3500, 3800]    63\n",
      "(3800, 4100]    41\n",
      "(4100, 4400]    36\n",
      "(4400, 4500]     9\n",
      "dtype: int64\n"
     ]
    },
    {
     "data": {
      "image/png": "[encoded data removed]",
      "text/plain": [
       "<Figure size 640x480 with 1 Axes>"
      ]
     },
     "metadata": {},
     "output_type": "display_data"
    }
   ],
   "source": [
    "''' 8. Plotting total number of penguins in body mass range\n",
    "Display a graph displaying the total number of penguins in the specified body mass range.\n",
    "a. Filter the data to include only the penguins with body mass (body_mass_g) in the range of [3200, 4500], both inclusive\n",
    "b. Group the filtered data by the body mass range and calculate the total number of penguins in each range using pd.cut() and groupby()\n",
    "c. Create a bar graph using plt.bar() to display the total number of penguins in the specified body mass range\n",
    "d. Customize the graph by adding a title, x-axis label, y-axis label, rotating x-axis labels for better readability\n",
    "e. Display the plot\n",
    "'''\n",
    "\n",
    "# BEGIN YOUR CODE\n",
    "import pandas as pd\n",
    "import matplotlib.pyplot as plt\n",
    "penguin=pd.read_csv(\"penguins.csv\")\n",
    "filtered=penguin[(penguin[\"body_mass_g\"]>=3200)&(penguin[\"body_mass_g\"]<=4500)]\n",
    "group_filtered=filtered.groupby(pd.cut(penguin[\"body_mass_g\"],bins= [3200,3500,3800,4100,4400,4500])).size()\n",
    "print(group_filtered)\n",
    "group_filtered.plot(kind=\"bar\")\n",
    "plt.xticks(rotation=0, horizontalalignment=\"center\")\n",
    "plt.title(\"Number of penguins in body mass range\")\n",
    "plt.xlabel(\"Body mass range\")\n",
    "plt.ylabel(\"No. of Penguins\")\n",
    "plt.show()\n",
    "\n",
    "# END YOUR CODE"
   ]
  },
  {
   "cell_type": "markdown",
   "metadata": {},
   "source": [
    "#### Results analyzing\n",
    "\n",
    "Analyze the graph and answer the following two questions:\n",
    "\n",
    "**1) What is your inference from the above graph?**\n",
    "\n",
    "*YOUR ANSWER:* From above body mass range vs No. of Penguins bar graph we can say that total no. of penguins whose mass range is between 3500-3800 is higher when compared with other body mass range and it is slightly greater than 60 on the other hand the body mass range between 4400-4500 has lowest no. of penguines which is approximately equals to 10.\n",
    "\n",
    "**2) What is the distribution of penguins across different body mass ranges within the specified range(3200, 4500]?**\n",
    "\n",
    "*YOUR ANSWER:* The distribution of Penguins across different body mass ranges are: \n",
    "              body mass range  No. of penguins\n",
    "                (3200, 3500]  -  50\n",
    "                (3500, 3800]  -  63\n",
    "                (3800, 4100]  -  41\n",
    "                (4100, 4400]  -  36\n",
    "                (4400, 4500]  -  9\n",
    "\n",
    "**3) Which is the most common species of penguins?**\n",
    "\n",
    "*YOUR ANSWER:* Adelie\n"
   ]
  },
  {
   "cell_type": "markdown",
   "metadata": {},
   "source": [
    "<a id='part5'></a>\n",
    "# Part 5: Sckit-learn Basics [20 Points]\n",
    "\n",
    "Skit-learn is a commonly used data analysis library. It contains in-build unsupervised and supervised learning algorithms. Check more details here - https://scikit-learn.org/stable/.\n",
    "In this part we will use scikit-learn library"
   ]
  },
  {
   "cell_type": "code",
   "execution_count": 124,
   "metadata": {},
   "outputs": [
    {
     "name": "stdout",
     "output_type": "stream",
     "text": [
      "Requirement already satisfied: scikit-learn in e:\\my_programs\\anaconda3\\lib\\site-packages (1.2.1)\n",
      "Collecting scikit-learn\n",
      "  Downloading scikit_learn-1.3.0-cp310-cp310-win_amd64.whl (9.2 MB)\n",
      "     ---------------------------------------- 9.2/9.2 MB 16.9 MB/s eta 0:00:00\n",
      "Requirement already satisfied: scipy>=1.5.0 in e:\\my_programs\\anaconda3\\lib\\site-packages (from scikit-learn) (1.10.0)\n",
      "Requirement already satisfied: joblib>=1.1.1 in e:\\my_programs\\anaconda3\\lib\\site-packages (from scikit-learn) (1.1.1)\n",
      "Requirement already satisfied: threadpoolctl>=2.0.0 in e:\\my_programs\\anaconda3\\lib\\site-packages (from scikit-learn) (2.2.0)\n",
      "Requirement already satisfied: numpy>=1.17.3 in e:\\my_programs\\anaconda3\\lib\\site-packages (from scikit-learn) (1.23.5)\n",
      "Installing collected packages: scikit-learn\n",
      "  Attempting uninstall: scikit-learn\n",
      "    Found existing installation: scikit-learn 1.2.1\n",
      "    Uninstalling scikit-learn-1.2.1:\n",
      "      Successfully uninstalled scikit-learn-1.2.1\n",
      "Successfully installed scikit-learn-1.3.0\n"
     ]
    }
   ],
   "source": [
    "''' 1. Install and import scikit-learn library\n",
    "'''\n",
    "\n",
    "# BEGIN_YOUR_CODE\n",
    "!pip install -U scikit-learn\n",
    "# END_YOUR_CODE"
   ]
  },
  {
   "cell_type": "code",
   "execution_count": 29,
   "metadata": {},
   "outputs": [
    {
     "name": "stdout",
     "output_type": "stream",
     "text": [
      "(275, 8)\n",
      "(69, 8)\n",
      "(275,)\n",
      "(69,)\n"
     ]
    }
   ],
   "source": [
    "''' 2. Prepare Penguins dataset for training\n",
    "a. Define our X_data = all the columns, exept 'Species'. You can use drop() function\n",
    "b. Define Y_target = 'Species' column from the dataset\n",
    "c. Use the train_test_split() function to split the dataset into training and testing sets. Pass the features (X_data) and target (Y_target), set test_size to 0.2 for an 80/20 split\n",
    "d. Print the shapes of X_train, X_test, Y_train, and Y_test sets\n",
    "'''\n",
    "\n",
    "# BEGIN_YOUR_CODE\n",
    "import pandas as pd\n",
    "from sklearn.model_selection import train_test_split\n",
    "penguin=pd.read_csv(\"penguins.csv\")\n",
    "penguin.drop(\"species\",axis=1)\n",
    "X_data=penguin[penguin.columns]\n",
    "Y_target=penguin[\"species\"]\n",
    "\n",
    "\n",
    "X_data_train, X_data_test, Y_target_train, Y_target_test = train_test_split(\n",
    "   X_data, Y_target, test_size = 0.2, random_state = 1\n",
    ")\n",
    "\n",
    "print(X_data_train.shape)\n",
    "print(X_data_test.shape)\n",
    "\n",
    "print(Y_target_train.shape)\n",
    "print(Y_target_test.shape)\n",
    "\n",
    "\n",
    "# END_YOUR_CODE"
   ]
  },
  {
   "cell_type": "code",
   "execution_count": 30,
   "metadata": {},
   "outputs": [
    {
     "name": "stdout",
     "output_type": "stream",
     "text": [
      "0.9850746268656716\n",
      "{'C': 1.0, 'class_weight': None, 'dual': False, 'fit_intercept': True, 'intercept_scaling': 1, 'l1_ratio': None, 'max_iter': 100000, 'multi_class': 'auto', 'n_jobs': None, 'penalty': 'l2', 'random_state': None, 'solver': 'lbfgs', 'tol': 0.0001, 'verbose': 0, 'warm_start': False}\n"
     ]
    }
   ],
   "source": [
    "''' 3. Fit the model\n",
    "a. Create and fit a logistic regression model to predict the 'Species' of a penguin using all of the other features in the dataset.\n",
    "b. You can use one hot encoding to encode categorical-based feature ('island' and 'gender') or reuse your code from abouve\n",
    "c. Create a logistic regression model using LogisticRegression()\n",
    "d. Fit the model using the training data\n",
    "e. Make predictions on the testing data using the trained model\n",
    "f. Print the accuracy score by comparing the predicted values with the actual target values using accuracy_score()\n",
    "g. Print the parameter values of the logistic regression model using get_params()\n",
    "\n",
    "You can read more about the inbuild Logistic Regression model here - https://scikit-learn.org/stable/modules/generated/sklearn.linear_model.LogisticRegression.html\n",
    "'''\n",
    "\n",
    "# BEGIN_YOUR_CODE\n",
    "import pandas as pd\n",
    "from sklearn.model_selection import train_test_split\n",
    "from sklearn.linear_model import LogisticRegression\n",
    "from sklearn.metrics import accuracy_score\n",
    "\n",
    "penguin=pd.read_csv(\"penguins.csv\")\n",
    "penguin=penguin.dropna()\n",
    "Y_target=penguin[\"species\"]\n",
    "X_data = pd.get_dummies(penguin, columns = ['island','gender'])\n",
    "X_data=X_data.drop(\"species\",axis=1)\n",
    "\n",
    "X_data_train, X_data_test, Y_target_train, Y_target_test = train_test_split(\n",
    "   X_data, Y_target, test_size = 0.2, random_state = 1\n",
    ")\n",
    "\n",
    "lr = LogisticRegression(max_iter=100000)\n",
    "lr.fit(X_data_train,Y_target_train)\n",
    "Y_data_prediction = lr.predict(X_data_test)\n",
    "\n",
    "score = accuracy_score(Y_target_test, Y_data_prediction) \n",
    "print(score)\n",
    "print(lr.get_params())\n"
   ]
  },
  {
   "cell_type": "markdown",
   "metadata": {},
   "source": [
    "<a id='part6'></a>\n",
    "# Part 6: Optuna Basics [10 Points]\n",
    "\n",
    "Optuna is a an open-source framework that helps to automatically search best hyperparameters, when training machine learning or deep learning models. \n",
    "Check more details here - https://optuna.org/ . In this part we will use optuna framework."
   ]
  },
  {
   "cell_type": "code",
   "execution_count": 1,
   "metadata": {},
   "outputs": [
    {
     "name": "stdout",
     "output_type": "stream",
     "text": [
      "Collecting optuna\n",
      "  Downloading optuna-3.3.0-py3-none-any.whl (404 kB)\n",
      "     -------------------------------------- 404.2/404.2 kB 1.2 MB/s eta 0:00:00\n",
      "Requirement already satisfied: PyYAML in e:\\my_programs\\anaconda3\\lib\\site-packages (from optuna) (6.0)\n",
      "Collecting cmaes>=0.10.0\n",
      "  Downloading cmaes-0.10.0-py3-none-any.whl (29 kB)\n",
      "Requirement already satisfied: packaging>=20.0 in e:\\my_programs\\anaconda3\\lib\\site-packages (from optuna) (22.0)\n",
      "Requirement already satisfied: sqlalchemy>=1.3.0 in e:\\my_programs\\anaconda3\\lib\\site-packages (from optuna) (1.4.39)\n",
      "Requirement already satisfied: numpy in e:\\my_programs\\anaconda3\\lib\\site-packages (from optuna) (1.23.5)\n",
      "Requirement already satisfied: tqdm in e:\\my_programs\\anaconda3\\lib\\site-packages (from optuna) (4.64.1)\n",
      "Collecting colorlog\n",
      "  Downloading colorlog-6.7.0-py2.py3-none-any.whl (11 kB)\n",
      "Collecting alembic>=1.5.0\n",
      "  Downloading alembic-1.12.0-py3-none-any.whl (226 kB)\n",
      "     -------------------------------------- 226.0/226.0 kB 2.0 MB/s eta 0:00:00\n",
      "Collecting Mako\n",
      "  Downloading Mako-1.2.4-py3-none-any.whl (78 kB)\n",
      "     ---------------------------------------- 78.7/78.7 kB ? eta 0:00:00\n",
      "Requirement already satisfied: typing-extensions>=4 in e:\\my_programs\\anaconda3\\lib\\site-packages (from alembic>=1.5.0->optuna) (4.4.0)\n",
      "Requirement already satisfied: greenlet!=0.4.17 in e:\\my_programs\\anaconda3\\lib\\site-packages (from sqlalchemy>=1.3.0->optuna) (2.0.1)\n",
      "Requirement already satisfied: colorama in e:\\my_programs\\anaconda3\\lib\\site-packages (from colorlog->optuna) (0.4.6)\n",
      "Requirement already satisfied: MarkupSafe>=0.9.2 in e:\\my_programs\\anaconda3\\lib\\site-packages (from Mako->alembic>=1.5.0->optuna) (2.1.1)\n",
      "Installing collected packages: Mako, colorlog, cmaes, alembic, optuna\n",
      "Successfully installed Mako-1.2.4 alembic-1.12.0 cmaes-0.10.0 colorlog-6.7.0 optuna-3.3.0\n"
     ]
    }
   ],
   "source": [
    "''' 1. Install and import optuna\n",
    "You can read more about installation here - https://optuna.org/#installation\n",
    "'''\n",
    "\n",
    "# BEGIN_YOUR_CODE\n",
    "! pip install optuna\n",
    "# END_YOUR_CODE"
   ]
  },
  {
   "cell_type": "markdown",
   "metadata": {},
   "source": [
    "You can refer code examples on how to use optuna here - https://optuna.org/#code_examples"
   ]
  },
  {
   "cell_type": "code",
   "execution_count": 32,
   "metadata": {},
   "outputs": [
    {
     "name": "stderr",
     "output_type": "stream",
     "text": [
      "[I 2023-09-14 19:36:34,729] A new study created in memory with name: no-name-d467bf70-091d-4af9-b3a5-6715fb3541f3\n",
      "E:\\My_Programs\\anaconda3\\lib\\site-packages\\sklearn\\linear_model\\_logistic.py:460: ConvergenceWarning: lbfgs failed to converge (status=1):\n",
      "STOP: TOTAL NO. of ITERATIONS REACHED LIMIT.\n",
      "\n",
      "Increase the number of iterations (max_iter) or scale the data as shown in:\n",
      "    https://scikit-learn.org/stable/modules/preprocessing.html\n",
      "Please also refer to the documentation for alternative solver options:\n",
      "    https://scikit-learn.org/stable/modules/linear_model.html#logistic-regression\n",
      "  n_iter_i = _check_optimize_result(\n",
      "[I 2023-09-14 19:36:34,801] Trial 0 finished with value: 0.9701492537313433 and parameters: {'C': 8.97344507093067, 'max_iter': 628.5249334027069}. Best is trial 0 with value: 0.9701492537313433.\n",
      "E:\\My_Programs\\anaconda3\\lib\\site-packages\\sklearn\\linear_model\\_logistic.py:460: ConvergenceWarning: lbfgs failed to converge (status=1):\n",
      "STOP: TOTAL NO. of ITERATIONS REACHED LIMIT.\n",
      "\n",
      "Increase the number of iterations (max_iter) or scale the data as shown in:\n",
      "    https://scikit-learn.org/stable/modules/preprocessing.html\n",
      "Please also refer to the documentation for alternative solver options:\n",
      "    https://scikit-learn.org/stable/modules/linear_model.html#logistic-regression\n",
      "  n_iter_i = _check_optimize_result(\n",
      "[I 2023-09-14 19:36:34,865] Trial 1 finished with value: 0.9701492537313433 and parameters: {'C': 9.201587286462974, 'max_iter': 233.16071494546938}. Best is trial 0 with value: 0.9701492537313433.\n",
      "E:\\My_Programs\\anaconda3\\lib\\site-packages\\sklearn\\linear_model\\_logistic.py:460: ConvergenceWarning: lbfgs failed to converge (status=1):\n",
      "STOP: TOTAL NO. of ITERATIONS REACHED LIMIT.\n",
      "\n",
      "Increase the number of iterations (max_iter) or scale the data as shown in:\n",
      "    https://scikit-learn.org/stable/modules/preprocessing.html\n",
      "Please also refer to the documentation for alternative solver options:\n",
      "    https://scikit-learn.org/stable/modules/linear_model.html#logistic-regression\n",
      "  n_iter_i = _check_optimize_result(\n",
      "[I 2023-09-14 19:36:34,931] Trial 2 finished with value: 0.9701492537313433 and parameters: {'C': 8.335940299662491, 'max_iter': 461.00228147442056}. Best is trial 0 with value: 0.9701492537313433.\n",
      "E:\\My_Programs\\anaconda3\\lib\\site-packages\\sklearn\\linear_model\\_logistic.py:460: ConvergenceWarning: lbfgs failed to converge (status=1):\n",
      "STOP: TOTAL NO. of ITERATIONS REACHED LIMIT.\n",
      "\n",
      "Increase the number of iterations (max_iter) or scale the data as shown in:\n",
      "    https://scikit-learn.org/stable/modules/preprocessing.html\n",
      "Please also refer to the documentation for alternative solver options:\n",
      "    https://scikit-learn.org/stable/modules/linear_model.html#logistic-regression\n",
      "  n_iter_i = _check_optimize_result(\n",
      "[I 2023-09-14 19:36:34,997] Trial 3 finished with value: 0.9701492537313433 and parameters: {'C': 1.9185540111818853, 'max_iter': 715.625809578642}. Best is trial 0 with value: 0.9701492537313433.\n",
      "E:\\My_Programs\\anaconda3\\lib\\site-packages\\sklearn\\linear_model\\_logistic.py:460: ConvergenceWarning: lbfgs failed to converge (status=1):\n",
      "STOP: TOTAL NO. of ITERATIONS REACHED LIMIT.\n",
      "\n",
      "Increase the number of iterations (max_iter) or scale the data as shown in:\n",
      "    https://scikit-learn.org/stable/modules/preprocessing.html\n",
      "Please also refer to the documentation for alternative solver options:\n",
      "    https://scikit-learn.org/stable/modules/linear_model.html#logistic-regression\n",
      "  n_iter_i = _check_optimize_result(\n",
      "[I 2023-09-14 19:36:35,063] Trial 4 finished with value: 0.9701492537313433 and parameters: {'C': 8.208222458400833, 'max_iter': 539.0440604670457}. Best is trial 0 with value: 0.9701492537313433.\n",
      "E:\\My_Programs\\anaconda3\\lib\\site-packages\\sklearn\\linear_model\\_logistic.py:460: ConvergenceWarning: lbfgs failed to converge (status=1):\n",
      "STOP: TOTAL NO. of ITERATIONS REACHED LIMIT.\n",
      "\n",
      "Increase the number of iterations (max_iter) or scale the data as shown in:\n",
      "    https://scikit-learn.org/stable/modules/preprocessing.html\n",
      "Please also refer to the documentation for alternative solver options:\n",
      "    https://scikit-learn.org/stable/modules/linear_model.html#logistic-regression\n",
      "  n_iter_i = _check_optimize_result(\n",
      "[I 2023-09-14 19:36:35,135] Trial 5 finished with value: 0.9701492537313433 and parameters: {'C': 9.950990105326289, 'max_iter': 202.1813557995137}. Best is trial 0 with value: 0.9701492537313433.\n",
      "E:\\My_Programs\\anaconda3\\lib\\site-packages\\sklearn\\linear_model\\_logistic.py:460: ConvergenceWarning: lbfgs failed to converge (status=1):\n",
      "STOP: TOTAL NO. of ITERATIONS REACHED LIMIT.\n",
      "\n",
      "Increase the number of iterations (max_iter) or scale the data as shown in:\n",
      "    https://scikit-learn.org/stable/modules/preprocessing.html\n",
      "Please also refer to the documentation for alternative solver options:\n",
      "    https://scikit-learn.org/stable/modules/linear_model.html#logistic-regression\n",
      "  n_iter_i = _check_optimize_result(\n",
      "[I 2023-09-14 19:36:35,200] Trial 6 finished with value: 0.9701492537313433 and parameters: {'C': 3.362539846493303, 'max_iter': 637.3124373274703}. Best is trial 0 with value: 0.9701492537313433.\n",
      "E:\\My_Programs\\anaconda3\\lib\\site-packages\\sklearn\\linear_model\\_logistic.py:460: ConvergenceWarning: lbfgs failed to converge (status=1):\n",
      "STOP: TOTAL NO. of ITERATIONS REACHED LIMIT.\n",
      "\n",
      "Increase the number of iterations (max_iter) or scale the data as shown in:\n",
      "    https://scikit-learn.org/stable/modules/preprocessing.html\n",
      "Please also refer to the documentation for alternative solver options:\n",
      "    https://scikit-learn.org/stable/modules/linear_model.html#logistic-regression\n",
      "  n_iter_i = _check_optimize_result(\n",
      "[I 2023-09-14 19:36:35,282] Trial 7 finished with value: 0.9402985074626866 and parameters: {'C': 0.4643231830588689, 'max_iter': 723.23635394529}. Best is trial 0 with value: 0.9701492537313433.\n",
      "E:\\My_Programs\\anaconda3\\lib\\site-packages\\sklearn\\linear_model\\_logistic.py:460: ConvergenceWarning: lbfgs failed to converge (status=1):\n",
      "STOP: TOTAL NO. of ITERATIONS REACHED LIMIT.\n",
      "\n",
      "Increase the number of iterations (max_iter) or scale the data as shown in:\n",
      "    https://scikit-learn.org/stable/modules/preprocessing.html\n",
      "Please also refer to the documentation for alternative solver options:\n",
      "    https://scikit-learn.org/stable/modules/linear_model.html#logistic-regression\n",
      "  n_iter_i = _check_optimize_result(\n",
      "[I 2023-09-14 19:36:35,354] Trial 8 finished with value: 0.9701492537313433 and parameters: {'C': 8.174080640591093, 'max_iter': 116.87073282601827}. Best is trial 0 with value: 0.9701492537313433.\n",
      "E:\\My_Programs\\anaconda3\\lib\\site-packages\\sklearn\\linear_model\\_logistic.py:460: ConvergenceWarning: lbfgs failed to converge (status=1):\n",
      "STOP: TOTAL NO. of ITERATIONS REACHED LIMIT.\n",
      "\n",
      "Increase the number of iterations (max_iter) or scale the data as shown in:\n",
      "    https://scikit-learn.org/stable/modules/preprocessing.html\n",
      "Please also refer to the documentation for alternative solver options:\n",
      "    https://scikit-learn.org/stable/modules/linear_model.html#logistic-regression\n",
      "  n_iter_i = _check_optimize_result(\n",
      "[I 2023-09-14 19:36:35,419] Trial 9 finished with value: 0.9701492537313433 and parameters: {'C': 6.249142658797326, 'max_iter': 399.1308061844442}. Best is trial 0 with value: 0.9701492537313433.\n"
     ]
    },
    {
     "name": "stdout",
     "output_type": "stream",
     "text": [
      "{'C': 8.97344507093067, 'max_iter': 628.5249334027069}\n"
     ]
    }
   ],
   "source": [
    "''' 2. Optimize hyperparameters using Optuna\n",
    "a. Reuse the code from Part 5 for fitting a logistic regression model using scikit-learn\n",
    "b. Use Optuna to determine the optimal values for two hyperparameters in logistic regression: C and max_iter\n",
    "    The aim is to find the hyperparameters that result in the highest accuracy score\n",
    "    The hyperparameter C should be in the range [0.01, 10], and max_iter should be within the range of [100, 1000]\n",
    "c. Print the optimal values of C and max_iter and corresponding accuracy score obtained\n",
    "'''\n",
    "\n",
    "# BEGIN_YOUR_CODE\n",
    "import pandas as pd\n",
    "import optuna\n",
    "from sklearn.model_selection import train_test_split\n",
    "from sklearn.linear_model import LogisticRegression\n",
    "from sklearn.metrics import accuracy_score\n",
    "\n",
    "penguin=pd.read_csv(\"penguins.csv\")\n",
    "penguin=penguin.dropna()\n",
    "Y_target=penguin[\"species\"]\n",
    "X_data = pd.get_dummies(penguin, columns = ['island','gender'])\n",
    "X_data=X_data.drop(\"species\",axis=1)\n",
    "\n",
    "X_data_train, X_data_test, Y_target_train, Y_target_test = train_test_split(\n",
    "   X_data, Y_target, test_size = 0.2, random_state = 1\n",
    ")\n",
    "def objective(trial):\n",
    "    C = trial.suggest_float('C', 0.01, 10)\n",
    "    max_iter=trial.suggest_float('max_iter',100,1000)\n",
    "    \n",
    "    lr = LogisticRegression(C=C)\n",
    "    lr.fit(X_data_train,Y_target_train)\n",
    "    Y_data_prediction = lr.predict(X_data_test)\n",
    "\n",
    "    score = accuracy_score(Y_target_test, Y_data_prediction)\n",
    "    return score\n",
    "\n",
    "study = optuna.create_study(direction=\"maximize\")\n",
    "study.optimize(objective, n_trials=10)\n",
    "\n",
    "print(study.best_params)\n",
    "\n",
    "# END_YOUR_CODE"
   ]
  },
  {
   "cell_type": "markdown",
   "metadata": {},
   "source": [
    "<a id='references'></a>\n",
    "## References Used\n",
    "\n",
    "**List below all the references you used to complete this assignment, including full links to the online resources**\n",
    "\n",
    "<font color='red'>Missing references will result in -5 points for the assignmnent. If you haven't used any resources to complete this assignments, just add \"None\" below</font>"
   ]
  },
  {
   "cell_type": "code",
   "execution_count": null,
   "metadata": {},
   "outputs": [],
   "source": [
    "# https://numpy.org/doc/stable/user/absolute_beginners.html"
   ]
  },
  {
   "cell_type": "code",
   "execution_count": null,
   "metadata": {},
   "outputs": [],
   "source": [
    "# https://pandas.pydata.org/docs/user_guide/categorical.html"
   ]
  },
  {
   "cell_type": "code",
   "execution_count": null,
   "metadata": {},
   "outputs": [],
   "source": [
    "# https://matplotlib.org/stable/tutorials/introductory/quick_start.html"
   ]
  },
  {
   "cell_type": "code",
   "execution_count": null,
   "metadata": {},
   "outputs": [],
   "source": [
    "# https://scikit-learn.org/stable/tutorial/index.html"
   ]
  },
  {
   "cell_type": "code",
   "execution_count": null,
   "metadata": {},
   "outputs": [],
   "source": [
    "# https://optuna.org/"
   ]
  },
  {
   "cell_type": "markdown",
   "metadata": {},
   "source": [
    "**Instructions**:\n",
    "\n",
    "*   Do not copy paste code from the references. You can refer to better understand and then code yourself.\n",
    "*   Prefer official documentations over other sources, for accurate and standard practices.\n",
    "*   Do not use ChatGPT. This assignment is aiming to strengthen your Python skills. Python is a crucial language in AI and data science, so ensure you're comfortable with its various aspects.\n",
    "*   Have fun and all the best!\n",
    "\n",
    "P.S. Start early and post on piazza, if you have any questions!\n",
    "\n",
    "\n",
    "\n"
   ]
  }
 ],
 "metadata": {
  "kernelspec": {
   "display_name": "Python 3 (ipykernel)",
   "language": "python",
   "name": "python3"
  },
  "language_info": {
   "codemirror_mode": {
    "name": "ipython",
    "version": 3
   },
   "file_extension": ".py",
   "mimetype": "text/x-python",
   "name": "python",
   "nbconvert_exporter": "python",
   "pygments_lexer": "ipython3",
   "version": "3.10.9"
  }
 },
 "nbformat": 4,
 "nbformat_minor": 2
}
